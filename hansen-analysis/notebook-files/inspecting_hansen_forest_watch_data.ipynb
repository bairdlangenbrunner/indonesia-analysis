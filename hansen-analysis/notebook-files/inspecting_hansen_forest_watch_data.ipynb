{
 "cells": [
  {
   "cell_type": "code",
   "execution_count": 1,
   "metadata": {
    "ExecuteTime": {
     "end_time": "2018-10-23T03:49:35.367228Z",
     "start_time": "2018-10-23T03:49:31.157511Z"
    }
   },
   "outputs": [],
   "source": [
    "import numpy\n",
    "import gdal\n",
    "import osr\n",
    "import glob\n",
    "import xarray\n",
    "import re\n",
    "import pprint\n",
    "\n",
    "import cartopy\n",
    "import cmocean\n",
    "import matplotlib\n",
    "import matplotlib.pyplot as mp\n",
    "\n",
    "import matplotlib.cm as mcm"
   ]
  },
  {
   "cell_type": "markdown",
   "metadata": {},
   "source": [
    "To use tiles, you must use gdal to make a virtual data set (vrt):\n",
    "\n",
    "    gdalbuildvrt mosaic.vrt *treecover*.tif\n",
    "    \n",
    "Then open the .vrt file and go crazy"
   ]
  },
  {
   "cell_type": "code",
   "execution_count": 3,
   "metadata": {
    "ExecuteTime": {
     "end_time": "2018-10-23T03:56:02.261890Z",
     "start_time": "2018-10-23T03:50:56.560230Z"
    }
   },
   "outputs": [],
   "source": [
    "file_list = sorted(glob.glob('/beegfs/DATA/pritchard/blangenb/HANSEN_GFC_DATA/*lossyear*'))\n",
    "gdal_datasets = [gdal.Open(f) for f in file_list]\n",
    "mosaic = gdal.BuildVRT('mosaic.vrt', gdal_datasets)\n",
    "mosaic_data = numpy.array(mosaic.ReadAsArray())\n",
    "#gdal_hansen_data = [ds.GetSubDatasets()[0][0] for ds in gdal_datasets]"
   ]
  },
  {
   "cell_type": "code",
   "execution_count": 4,
   "metadata": {
    "ExecuteTime": {
     "end_time": "2018-10-23T05:18:59.266292Z",
     "start_time": "2018-10-23T05:18:58.628863Z"
    }
   },
   "outputs": [
    {
     "data": {
      "text/plain": [
       "(120000, 280000)"
      ]
     },
     "execution_count": 4,
     "metadata": {},
     "output_type": "execute_result"
    }
   ],
   "source": [
    "mosaic_data.shape"
   ]
  },
  {
   "cell_type": "code",
   "execution_count": 5,
   "metadata": {
    "ExecuteTime": {
     "end_time": "2018-10-23T05:19:43.874166Z",
     "start_time": "2018-10-23T05:19:43.419281Z"
    }
   },
   "outputs": [],
   "source": [
    "mosaic_geotrans = mosaic.GetGeoTransform()"
   ]
  },
  {
   "cell_type": "code",
   "execution_count": 6,
   "metadata": {
    "ExecuteTime": {
     "end_time": "2018-10-23T05:19:45.285146Z",
     "start_time": "2018-10-23T05:19:45.160360Z"
    }
   },
   "outputs": [],
   "source": [
    "data_extent = (mosaic_geotrans[0], \\\n",
    "               mosaic_geotrans[0] + mosaic.RasterXSize*mosaic_geotrans[1], \\\n",
    "               mosaic_geotrans[3] + mosaic.RasterYSize*mosaic_geotrans[5], \\\n",
    "               mosaic_geotrans[3])"
   ]
  },
  {
   "cell_type": "code",
   "execution_count": null,
   "metadata": {
    "ExecuteTime": {
     "start_time": "2018-10-23T05:21:00.124Z"
    }
   },
   "outputs": [],
   "source": [
    "mp.imshow(mosaic_data, origin='upper')"
   ]
  },
  {
   "cell_type": "code",
   "execution_count": null,
   "metadata": {},
   "outputs": [],
   "source": []
  },
  {
   "cell_type": "code",
   "execution_count": null,
   "metadata": {},
   "outputs": [],
   "source": []
  },
  {
   "cell_type": "code",
   "execution_count": 18,
   "metadata": {
    "ExecuteTime": {
     "end_time": "2018-10-23T03:40:41.733540Z",
     "start_time": "2018-10-23T03:40:41.717827Z"
    }
   },
   "outputs": [
    {
     "data": {
      "text/plain": [
       "(90.0, 0.0002500000000000001, 0.0, 10.0, 0.0, -0.0002500000000000001)"
      ]
     },
     "execution_count": 18,
     "metadata": {},
     "output_type": "execute_result"
    }
   ],
   "source": [
    "mosaic_geotrans"
   ]
  },
  {
   "cell_type": "code",
   "execution_count": null,
   "metadata": {},
   "outputs": [],
   "source": []
  },
  {
   "cell_type": "code",
   "execution_count": null,
   "metadata": {},
   "outputs": [],
   "source": []
  },
  {
   "cell_type": "code",
   "execution_count": 7,
   "metadata": {
    "ExecuteTime": {
     "end_time": "2018-10-23T02:28:53.897517Z",
     "start_time": "2018-10-23T02:28:53.863460Z"
    }
   },
   "outputs": [
    {
     "data": {
      "text/plain": [
       "{'AREA_OR_POINT': 'Area'}"
      ]
     },
     "execution_count": 7,
     "metadata": {},
     "output_type": "execute_result"
    }
   ],
   "source": [
    "gdal_datasets[3].GetMetadata()"
   ]
  },
  {
   "cell_type": "code",
   "execution_count": 12,
   "metadata": {
    "ExecuteTime": {
     "end_time": "2018-10-23T02:32:27.968939Z",
     "start_time": "2018-10-23T02:32:21.239511Z"
    }
   },
   "outputs": [],
   "source": [
    "band = gdal_datasets[0].ReadAsArray()#.astype(numpy.float)"
   ]
  },
  {
   "cell_type": "raw",
   "metadata": {
    "ExecuteTime": {
     "end_time": "2018-10-23T02:29:58.704901Z",
     "start_time": "2018-10-23T02:29:20.114103Z"
    }
   },
   "source": [
    "band.shape\n",
    "band[band==0] = numpy.nan"
   ]
  },
  {
   "cell_type": "raw",
   "metadata": {
    "ExecuteTime": {
     "end_time": "2018-10-23T02:29:59.003390Z",
     "start_time": "2018-10-23T02:29:58.714793Z"
    }
   },
   "source": [
    "# A class that will downsample the data and recompute when zoomed.\n",
    "class DataDisplayDownsampler(object):\n",
    "    def __init__(self, xdata, ydata):\n",
    "        self.origYData = ydata\n",
    "        self.origXData = xdata\n",
    "        self.ratio = 5\n",
    "        self.delta = xdata[-1] - xdata[0]\n",
    "\n",
    "    def downsample(self, xstart, xend):\n",
    "        # Very simple downsampling that takes the points within the range\n",
    "        # and picks every Nth point\n",
    "        mask = (self.origXData > xstart) & (self.origXData < xend)\n",
    "        xdata = self.origXData[mask]\n",
    "        xdata = xdata[::self.ratio]\n",
    "\n",
    "        ydata = self.origYData[mask]\n",
    "        ydata = ydata[::self.ratio]\n",
    "\n",
    "        return xdata, ydata\n",
    "\n",
    "    def update(self, ax):\n",
    "        # Update the line\n",
    "        lims = ax.viewLim\n",
    "        if numpy.abs(lims.width - self.delta) > 1e-8:\n",
    "            self.delta = lims.width\n",
    "            xstart, xend = lims.intervalx\n",
    "            self.line.set_data(*self.downsample(xstart, xend))\n",
    "            ax.figure.canvas.draw_idle()"
   ]
  },
  {
   "cell_type": "code",
   "execution_count": 13,
   "metadata": {
    "ExecuteTime": {
     "end_time": "2018-10-23T02:35:21.059144Z",
     "start_time": "2018-10-23T02:32:29.907938Z"
    }
   },
   "outputs": [
    {
     "data": {
      "text/plain": [
       "<matplotlib.image.AxesImage at 0x323379048>"
      ]
     },
     "execution_count": 13,
     "metadata": {},
     "output_type": "execute_result"
    },
    {
     "data": {
      "image/png": "[encoded data removed]",
      "text/plain": [
       "<Figure size 432x288 with 1 Axes>"
      ]
     },
     "metadata": {},
     "output_type": "display_data"
    }
   ],
   "source": [
    "mp.imshow(band, origin='upper', interpolation='None')"
   ]
  },
  {
   "cell_type": "code",
   "execution_count": null,
   "metadata": {},
   "outputs": [],
   "source": [
    "hansen_mosaic = gdal.BuildVRT()"
   ]
  }
 ],
 "metadata": {
  "kernelspec": {
   "display_name": "Python 3",
   "language": "python",
   "name": "python3"
  },
  "language_info": {
   "codemirror_mode": {
    "name": "ipython",
    "version": 3
   },
   "file_extension": ".py",
   "mimetype": "text/x-python",
   "name": "python",
   "nbconvert_exporter": "python",
   "pygments_lexer": "ipython3",
   "version": "3.6.5"
  }
 },
 "nbformat": 4,
 "nbformat_minor": 2
}
