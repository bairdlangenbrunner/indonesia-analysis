{
 "cells": [
  {
   "cell_type": "markdown",
   "metadata": {},
   "source": [
    "**done remotely on greenplanet**"
   ]
  },
  {
   "cell_type": "code",
   "execution_count": 1,
   "metadata": {
    "ExecuteTime": {
     "end_time": "2018-10-25T14:32:20.064587Z",
     "start_time": "2018-10-25T14:32:15.796409Z"
    }
   },
   "outputs": [],
   "source": [
    "import numpy\n",
    "import gdal\n",
    "import osr\n",
    "import glob\n",
    "import xarray\n",
    "import datetime\n",
    "import re\n",
    "import cartopy\n",
    "import cmocean\n",
    "import matplotlib.pyplot as mp\n",
    "import joblib"
   ]
  },
  {
   "cell_type": "markdown",
   "metadata": {},
   "source": [
    "list the files in the directory"
   ]
  },
  {
   "cell_type": "raw",
   "metadata": {
    "ExecuteTime": {
     "end_time": "2018-10-23T19:23:41.182978Z",
     "start_time": "2018-10-23T19:23:34.129084Z"
    }
   },
   "source": [
    "!ls /beegfs/DATA/pritchard/blangenb/MODIS_ARCHIVE/MOD11A2/MOD11A2.A2018161*"
   ]
  },
  {
   "cell_type": "markdown",
   "metadata": {},
   "source": [
    "open all files as a separate gdal dataset  \n",
    "(store in list)"
   ]
  },
  {
   "cell_type": "code",
   "execution_count": 2,
   "metadata": {
    "ExecuteTime": {
     "end_time": "2018-10-25T14:32:29.784638Z",
     "start_time": "2018-10-25T14:32:28.641711Z"
    }
   },
   "outputs": [],
   "source": [
    "file_list_all = numpy.array(sorted(glob.glob('/beegfs/DATA/pritchard/blangenb/MODIS_ARCHIVE/MOD11A2/MOD11A2*.hdf')))\n",
    "\n",
    "#reg_exp = re.compile('.*h(27|28|29|30|31|32)v(08|09|10)(.*\\.hdf)$')\n",
    "reg_exp = re.compile('.*h(27|28|29)v(08|09)(.*\\.hdf)$') # in this case over Borneo/Sumatra\n",
    "# shorten list to only have the files you want\n",
    "file_list_all = numpy.array([filename for filename in file_list_all if re.match(reg_exp, filename)])"
   ]
  },
  {
   "cell_type": "code",
   "execution_count": 3,
   "metadata": {
    "ExecuteTime": {
     "end_time": "2018-10-25T14:32:30.792490Z",
     "start_time": "2018-10-25T14:32:30.534554Z"
    }
   },
   "outputs": [
    {
     "name": "stdout",
     "output_type": "stream",
     "text": [
      "goes from 2000049 to 2018177\n"
     ]
    }
   ],
   "source": [
    "file_list_yearday_strings_all = numpy.array([f.split('/')[-1].split('.')[1][1:] for f in file_list_all])\n",
    "file_list_datetime_all = numpy.array([datetime.datetime.strptime(yd, '%Y%j') for yd in file_list_yearday_strings_all])\n",
    "yearday_strings_unique_all = numpy.unique(file_list_yearday_strings_all)\n",
    "\n",
    "#specify which yearday to start and end on, and subset only those\n",
    "print('goes from',yearday_strings_unique_all[0],'to',yearday_strings_unique_all[-1])\n",
    "yearday_start = '2001001' #yearday_strings_unique_all[0]\n",
    "yearday_end = '2018001' #yearday_strings_unique_all[-1]\n",
    "yearday_start_dt = datetime.datetime.strptime(yearday_start, '%Y%j')\n",
    "yearday_end_dt = datetime.datetime.strptime(yearday_end, '%Y%j')\n",
    "yearday_indices = [(i<=yearday_end_dt)&(i>=yearday_start_dt) for i in file_list_datetime_all]\n",
    "\n",
    "file_list = file_list_all[yearday_indices]\n",
    "file_list_datetime = file_list_datetime_all[yearday_indices]\n",
    "file_list_yearday_strings = file_list_yearday_strings_all[yearday_indices]\n",
    "yearday_strings_unique = numpy.unique(file_list_yearday_strings)"
   ]
  },
  {
   "cell_type": "markdown",
   "metadata": {},
   "source": [
    "create the datetime list you'll iterate over in the data set"
   ]
  },
  {
   "cell_type": "code",
   "execution_count": 4,
   "metadata": {
    "ExecuteTime": {
     "end_time": "2018-10-25T14:32:32.360748Z",
     "start_time": "2018-10-25T14:32:32.322159Z"
    }
   },
   "outputs": [],
   "source": [
    "datetime_array_subset = numpy.array(([datetime.datetime.strptime(t, '%Y%j') for t in yearday_strings_unique]))"
   ]
  },
  {
   "cell_type": "markdown",
   "metadata": {},
   "source": [
    "narrow file list even further by choosing only the grid cells that cover Indonesia  \n",
    "(corresponds to h27/28/29/30/31/32 and v08/09/10)"
   ]
  },
  {
   "cell_type": "code",
   "execution_count": 5,
   "metadata": {
    "ExecuteTime": {
     "end_time": "2018-10-25T14:32:33.312686Z",
     "start_time": "2018-10-25T14:32:33.301658Z"
    }
   },
   "outputs": [
    {
     "data": {
      "text/plain": [
       "780"
      ]
     },
     "execution_count": 5,
     "metadata": {},
     "output_type": "execute_result"
    }
   ],
   "source": [
    "yearday_strings_unique.size"
   ]
  },
  {
   "cell_type": "markdown",
   "metadata": {},
   "source": [
    "for 8-day data, nothing will be missing"
   ]
  },
  {
   "cell_type": "markdown",
   "metadata": {},
   "source": [
    "1. Do the first ```yearday``` combo (using ```gdal.BuildVRT```) to get the correct x and y dim sizes\n",
    "\n",
    "2. Then create a numpy nan array with this dimensionality.  **Make sure it's the length of the full time series, i.e., if you're missing datetimes, keep those in there as nan arrays.**  Create arrays for daytime and nighttime LST *and* the quality control data for them.\n",
    "\n",
    "3. Loop through each daytime in the list; if it exists, get the hdf files and the data out.  If it doesn't exist, keep the arrays as nans and move on."
   ]
  },
  {
   "cell_type": "markdown",
   "metadata": {},
   "source": [
    "note the first yearday_strings_unique option ('2015238') is missing a few tiles..."
   ]
  },
  {
   "cell_type": "markdown",
   "metadata": {},
   "source": [
    "# parallel processing the modis data"
   ]
  },
  {
   "cell_type": "raw",
   "metadata": {
    "ExecuteTime": {
     "end_time": "2018-10-25T14:33:47.265780Z",
     "start_time": "2018-10-25T14:32:37.299767Z"
    }
   },
   "source": [
    "# 1. Doing the first yearday combo\n",
    "t = 0\n",
    "yearday_string = yearday_strings_unique[t]\n",
    "yearday_indices = [yearday_string in yd for yd in file_list]\n",
    "file_list_yearday = file_list[yearday_indices]\n",
    "# open only the files for that specific \"yearday\"\n",
    "gdal_datasets = [gdal.Open(f) for f in file_list_yearday]\n",
    "gdal_lst_day_data = [ds.GetSubDatasets()[0][0] for ds in gdal_datasets]\n",
    "# create mosaics\n",
    "lst_day_mosaic = gdal.BuildVRT('gdal_lst_day_mosaic.vrt', gdal_lst_day_data)\n",
    "# pull out data\n",
    "lst_day_mosaic_data = lst_day_mosaic.ReadAsArray()\n",
    "\n",
    "lst_day_mosaic_ALL_DATA = numpy.zeros((datetime_array_subset.size,)+lst_day_mosaic_data.shape)*numpy.nan\n",
    "lst_day_mosaic_ALL_DATA[0,:,:] = lst_day_mosaic_data"
   ]
  },
  {
   "cell_type": "raw",
   "metadata": {
    "ExecuteTime": {
     "end_time": "2018-10-25T14:34:07.844752Z",
     "start_time": "2018-10-25T14:34:07.838539Z"
    }
   },
   "source": [
    "def open_modis_files(t, datetime_array_subset, yearday_strings_unique, file_list, output_array):\n",
    "    \n",
    "    #print(t)\n",
    "    #print(datetime_array_subset[t])\n",
    "    \n",
    "    yearday_string = datetime_array_subset[t]\n",
    "    yearday_string = yearday_strings_unique[t]\n",
    "    yearday_indices = [yearday_string in yd for yd in file_list]\n",
    "    file_list_yearday = file_list[yearday_indices]\n",
    "    #print(file_list_yearday)\n",
    "    \n",
    "    # open only the files for that specific \"yearday\"\n",
    "    gdal_datasets = [gdal.Open(f) for f in file_list_yearday]\n",
    "    gdal_lst_day_data = [ds.GetSubDatasets()[0][0] for ds in gdal_datasets]\n",
    "    # create mosaics\n",
    "    lst_day_mosaic = gdal.BuildVRT('gdal_lst_day_mosaic.vrt', gdal_lst_day_data)\n",
    "    # pull out data\n",
    "    lst_day_mosaic_data = lst_day_mosaic.ReadAsArray()\n",
    "    # collect in storage arrays\n",
    "    output_array[t,:,:] = lst_day_mosaic_data\n",
    "    del gdal_datasets"
   ]
  },
  {
   "cell_type": "markdown",
   "metadata": {},
   "source": [
    "Timing stats  \n",
    "\n",
    "    n_jobs=6:  \n",
    "    n_jobs=10:"
   ]
  },
  {
   "cell_type": "raw",
   "metadata": {
    "ExecuteTime": {
     "end_time": "2018-10-25T15:23:00.153035Z",
     "start_time": "2018-10-25T14:39:35.833969Z"
    }
   },
   "source": [
    "none_list = joblib.Parallel(n_jobs=6, verbose=10, require='sharedmem')\\\n",
    "(joblib.delayed(open_modis_files)(t, \\\n",
    "                                  datetime_array_subset, \\\n",
    "                                  yearday_strings_unique, \\\n",
    "                                  file_list, \\\n",
    "                                  lst_day_mosaic_ALL_DATA)\\\n",
    " for t in range(100,datetime_array_subset.size))\n",
    " \n",
    " lst_day_mosaic_ALL_DATA *= 0.02"
   ]
  },
  {
   "cell_type": "code",
   "execution_count": 21,
   "metadata": {
    "ExecuteTime": {
     "end_time": "2018-10-25T15:32:51.422088Z",
     "start_time": "2018-10-25T15:31:52.876886Z"
    }
   },
   "outputs": [],
   "source": [
    "numpy.save('lst_day_mosaic_ALL_DATA.npy', lst_day_mosaic_ALL_DATA)"
   ]
  },
  {
   "cell_type": "code",
   "execution_count": 28,
   "metadata": {
    "ExecuteTime": {
     "end_time": "2018-10-25T15:36:19.306768Z",
     "start_time": "2018-10-25T15:35:42.152677Z"
    }
   },
   "outputs": [],
   "source": [
    "lst_day_mosaic_ALL_DATA[lst_day_mosaic_ALL_DATA==0] = numpy.nan"
   ]
  },
  {
   "cell_type": "code",
   "execution_count": 32,
   "metadata": {
    "ExecuteTime": {
     "end_time": "2018-10-25T15:50:39.514305Z",
     "start_time": "2018-10-25T15:38:37.891074Z"
    }
   },
   "outputs": [
    {
     "name": "stderr",
     "output_type": "stream",
     "text": [
      "/export/home/blangenb/miniconda3/lib/python3.6/site-packages/ipykernel_launcher.py:4: RuntimeWarning: Mean of empty slice\n",
      "  after removing the cwd from sys.path.\n"
     ]
    }
   ],
   "source": [
    "lst_day_mean = numpy.zeros((lst_day_mosaic_ALL_DATA.shape[1:]))\n",
    "for i in range(lst_day_mosaic_ALL_DATA.shape[1]):\n",
    "    for j in range(lst_day_mosaic_ALL_DATA.shape[2]):\n",
    "        lst_day_mean[i,j] = numpy.nanmean(lst_day_mosaic_ALL_DATA[:,i,j])\n",
    "#lst_day_mean = numpy.nanmean(lst_day_mosaic_ALL_DATA, axis=0)"
   ]
  },
  {
   "cell_type": "code",
   "execution_count": null,
   "metadata": {
    "ExecuteTime": {
     "start_time": "2018-10-25T18:55:02.127Z"
    }
   },
   "outputs": [],
   "source": [
    "mp.imshow(lst_day_mean); mp.colorbar()"
   ]
  },
  {
   "cell_type": "code",
   "execution_count": 27,
   "metadata": {
    "ExecuteTime": {
     "end_time": "2018-10-25T15:34:52.653754Z",
     "start_time": "2018-10-25T15:34:50.874668Z"
    }
   },
   "outputs": [
    {
     "data": {
      "text/plain": [
       "<matplotlib.colorbar.Colorbar at 0x2b6c28d4f4e0>"
      ]
     },
     "execution_count": 27,
     "metadata": {},
     "output_type": "execute_result"
    },
    {
     "data": {
      "image/png": "[encoded data removed]",
      "text/plain": [
       "<Figure size 432x288 with 2 Axes>"
      ]
     },
     "metadata": {},
     "output_type": "display_data"
    }
   ],
   "source": [
    "mp.imshow(lst_day_mosaic_ALL_DATA[0,:,:]); mp.colorbar()"
   ]
  },
  {
   "cell_type": "markdown",
   "metadata": {},
   "source": [
    "# get nino data"
   ]
  },
  {
   "cell_type": "code",
   "execution_count": null,
   "metadata": {},
   "outputs": [],
   "source": [
    "nino34_filename = '/beegfs/DATA/pritchard/blangenb/NINO34_INDEX/nino34_index.txt'\n",
    "nino34_df = pandas.read_csv(nino34_filename, skiprows=1, skipfooter=3, header=None, delim_whitespace=True)\n",
    "nino34_data = nino34_df.values[:,1:].flatten()\n",
    "nino34_data[nino34_data==-99.99]=numpy.nan"
   ]
  },
  {
   "cell_type": "code",
   "execution_count": null,
   "metadata": {},
   "outputs": [],
   "source": [
    "year_start = nino34_df[0].values[0]\n",
    "year_end = nino34_df[0].values[-1]\n",
    "\n",
    "nino34_datetime_list = []\n",
    "for y,m in list(itertools.product(range(year_start,year_end+1),range(1,13))):\n",
    "    nino34_datetime_list.append(datetime.date(y,m,15))\n",
    "nino34_datetimes = numpy.array(nino34_datetime_list)"
   ]
  },
  {
   "cell_type": "code",
   "execution_count": null,
   "metadata": {},
   "outputs": [],
   "source": [
    "nino34_data_NaNs = numpy.zeros((nino34_data.shape), dtype=bool)\n",
    "nino34_data_NaNs[~numpy.isnan(nino34_data)]=1\n",
    "nino34_data_filtered = nino34_data[nino34_data_NaNs]\n",
    "nino34_datetimes_filtered = nino34_datetimes[nino34_data_NaNs]"
   ]
  },
  {
   "cell_type": "code",
   "execution_count": null,
   "metadata": {},
   "outputs": [],
   "source": [
    "nino34_data_detrend = scipy.signal.detrend(nino34_data_filtered)\n",
    "nino34_data_centered = nino34_data_detrend-nino34_data_detrend.mean()"
   ]
  },
  {
   "cell_type": "code",
   "execution_count": null,
   "metadata": {},
   "outputs": [],
   "source": [
    "nino34_data_final = pandas.Series(nino34_data_centered).rolling(window=3, center=True).mean()"
   ]
  },
  {
   "cell_type": "code",
   "execution_count": null,
   "metadata": {},
   "outputs": [],
   "source": [
    "fontsize = 12\n",
    "\n",
    "fig = mp.figure(figsize=(8.5,2))\n",
    "\n",
    "x = nino34_datetimes_filtered\n",
    "y2 = nino34_data_final\n",
    "\n",
    "ax = fig.add_subplot(111)\n",
    "ax.plot(x, y2, c='0.1')\n",
    "\n",
    "ax.axhline(0, lw=0.5, ls='-', c='0.1')\n",
    "ax.axhline(0.5, lw=1, ls='-', c='firebrick')\n",
    "ax.axhline(-0.5, lw=1, ls='-', c='dodgerblue')\n",
    "\n",
    "ax.axhline(1, lw=1, ls='--', c='firebrick')\n",
    "ax.axhline(-1, lw=1, ls='--', c='dodgerblue')\n",
    "\n",
    "y1_positive = numpy.ones((nino34_data_final.size))*0.5\n",
    "y1_negative = numpy.ones((nino34_data_final.size))*-0.5\n",
    "\n",
    "ax.fill_between(x, y1_positive, y2, where=y2>=y1_positive, color='firebrick', alpha='0.5')\n",
    "ax.fill_between(x, y1_negative, y2, where=y2<=y1_negative, color='dodgerblue', alpha='0.5')\n",
    "\n",
    "ax.tick_params(labelsize=fontsize)"
   ]
  },
  {
   "cell_type": "code",
   "execution_count": null,
   "metadata": {},
   "outputs": [],
   "source": []
  },
  {
   "cell_type": "code",
   "execution_count": null,
   "metadata": {},
   "outputs": [],
   "source": []
  },
  {
   "cell_type": "code",
   "execution_count": null,
   "metadata": {},
   "outputs": [],
   "source": []
  },
  {
   "cell_type": "code",
   "execution_count": null,
   "metadata": {},
   "outputs": [],
   "source": []
  },
  {
   "cell_type": "code",
   "execution_count": null,
   "metadata": {},
   "outputs": [],
   "source": []
  },
  {
   "cell_type": "code",
   "execution_count": null,
   "metadata": {},
   "outputs": [],
   "source": []
  },
  {
   "cell_type": "code",
   "execution_count": null,
   "metadata": {},
   "outputs": [],
   "source": []
  },
  {
   "cell_type": "code",
   "execution_count": null,
   "metadata": {},
   "outputs": [],
   "source": []
  },
  {
   "cell_type": "code",
   "execution_count": null,
   "metadata": {},
   "outputs": [],
   "source": []
  },
  {
   "cell_type": "code",
   "execution_count": null,
   "metadata": {},
   "outputs": [],
   "source": []
  },
  {
   "cell_type": "code",
   "execution_count": null,
   "metadata": {
    "ExecuteTime": {
     "end_time": "2018-10-25T06:27:49.371825Z",
     "start_time": "2018-10-25T06:27:48.037917Z"
    }
   },
   "outputs": [],
   "source": [
    "mp.imshow(lst_day_mosaic_ALL_DATA[6,:,:])"
   ]
  },
  {
   "cell_type": "code",
   "execution_count": null,
   "metadata": {
    "ExecuteTime": {
     "end_time": "2018-10-25T05:37:25.047847Z",
     "start_time": "2018-10-25T05:37:24.506681Z"
    }
   },
   "outputs": [],
   "source": [
    "mp.imshow(lst_day_mosaic_data)\n",
    "#mp.axes().set_xlim(0,7200)"
   ]
  },
  {
   "cell_type": "code",
   "execution_count": null,
   "metadata": {},
   "outputs": [],
   "source": [
    "joblib_result = joblib.Parallel(n_jobs=30, verbose=10)\\\n",
    "(joblib.delayed(interpolate_and_save_calipso_data)(file,xnew,ynew,borneo_main_geom)\\\n",
    " for file in npy_file_list)"
   ]
  },
  {
   "cell_type": "markdown",
   "metadata": {},
   "source": [
    "from the documentation:\n",
    "\n",
    "Atmospheric radiative transfer simulations were made with MODTRAN4 code (Berk et al., 1999) in wide atmospheric and LST conditions: the range of the atmospheric surface temperature (Ts-air) is set as 280–325K for the daytime and 275–305K for the nighttime; the atmospheric column water vapor varies from nearly zero to 5.5cm; and the range of (LST – Ts-air) is set as from 8–29K for daytime LSTs and from −10–4K for nighttime LSTs. A quadratic term of the difference between brightness temperatures in bands 31 and 32 was added into the original viewing angle dependent split-window algorithm in order to improve the LST retrieval accuracy slightly (Wan, 2014).\n",
    "\n",
    "* valid range 7500-65535 in raw output"
   ]
  },
  {
   "cell_type": "code",
   "execution_count": null,
   "metadata": {
    "ExecuteTime": {
     "end_time": "2018-10-25T04:32:03.489141Z",
     "start_time": "2018-10-25T04:31:53.449803Z"
    }
   },
   "outputs": [],
   "source": [
    "# set data outside valid range equal to nan\n",
    "lst_day_mosaic_ALL_DATA[(lst_day_mosaic_ALL_DATA<7500)|(lst_day_mosaic_ALL_DATA>65535)] = numpy.nan\n",
    "\n",
    "# scale it down to Kelvin units\n",
    "lst_day_mosaic_ALL_DATA_scaled = lst_day_mosaic_ALL_DATA*0.02\n",
    "\n",
    "# take the time mean\n",
    "lst_day_mosaic_timemean = numpy.nanmean(lst_day_mosaic_ALL_DATA_scaled, axis=0)"
   ]
  },
  {
   "cell_type": "code",
   "execution_count": null,
   "metadata": {
    "ExecuteTime": {
     "end_time": "2018-10-25T04:32:06.709453Z",
     "start_time": "2018-10-25T04:32:03.496995Z"
    }
   },
   "outputs": [],
   "source": [
    "mp.imshow(lst_day_mosaic_timemean-273.15);mp.colorbar()"
   ]
  },
  {
   "cell_type": "code",
   "execution_count": null,
   "metadata": {
    "ExecuteTime": {
     "end_time": "2018-10-25T04:32:11.475351Z",
     "start_time": "2018-10-25T04:32:11.465341Z"
    }
   },
   "outputs": [],
   "source": [
    "lst_geotrans = lst_day_mosaic.GetGeoTransform()\n",
    "lst_geotrans"
   ]
  },
  {
   "cell_type": "code",
   "execution_count": null,
   "metadata": {
    "ExecuteTime": {
     "end_time": "2018-10-25T04:32:12.979750Z",
     "start_time": "2018-10-25T04:32:12.974942Z"
    }
   },
   "outputs": [],
   "source": [
    "data_extent = (lst_geotrans[0], \\\n",
    "               lst_geotrans[0] + lst_day_mosaic.RasterXSize*lst_geotrans[1], \\\n",
    "               lst_geotrans[3] + lst_day_mosaic.RasterYSize*lst_geotrans[5], \\\n",
    "               lst_geotrans[3])"
   ]
  },
  {
   "cell_type": "code",
   "execution_count": null,
   "metadata": {
    "ExecuteTime": {
     "start_time": "2018-10-25T04:32:14.160Z"
    }
   },
   "outputs": [],
   "source": [
    "fontsize=12\n",
    "\n",
    "modis_globe = cartopy.crs.Globe(datum='WGS84', ellipse='sphere', semimajor_axis=6371007.181)\n",
    "map_proj = cartopy.crs.Sinusoidal(central_longitude=0, false_northing=0, false_easting=0, globe=modis_globe)\n",
    "data_proj = cartopy.crs.Sinusoidal(central_longitude=0, false_northing=0, false_easting=0, globe=modis_globe)\n",
    "geodetic_proj = cartopy.crs.Geodetic()\n",
    "\n",
    "field = lst_day_mosaic_timemean-273.15\n",
    "\n",
    "fig = mp.figure(figsize=(4.25,2.75))\n",
    "ax = fig.add_subplot(111, projection=map_proj)\n",
    "image = ax.imshow(field, \\\n",
    "                  extent=data_extent, \\\n",
    "                  origin='upper', transform=data_proj, \\\n",
    "                  vmin=20,vmax=35,cmap=cmocean.cm.matter_r)\n",
    "ax.coastlines(resolution='10m', color='0.1', lw=0.5)\n",
    "\n",
    "ax.text(s='MODIS daytime LST (2017)', x=0,y=1.02,\n",
    "        ha='left', va='bottom', transform=ax.transAxes,\n",
    "        fontsize=fontsize)\n",
    "\n",
    "fig.tight_layout()\n",
    "\n",
    "axpos = ax.get_position()\n",
    "cbar_ax = fig.add_axes([axpos.x0,axpos.y0-.05,axpos.width,0.05])\n",
    "cbar = mp.colorbar(image, cax=cbar_ax, orientation='horizontal')\n",
    "cbar_ax.tick_params(labelsize=fontsize)\n",
    "cbar.set_label('$\\degree$C', fontsize=fontsize)\n",
    "\n",
    "mp.savefig('../figures/modis_daytime_lst_2017.png', dpi=600, bbox_inches='tight', transparent=True)"
   ]
  },
  {
   "cell_type": "code",
   "execution_count": null,
   "metadata": {},
   "outputs": [],
   "source": []
  }
 ],
 "metadata": {
  "kernelspec": {
   "display_name": "Python 3",
   "language": "python",
   "name": "python3"
  },
  "language_info": {
   "codemirror_mode": {
    "name": "ipython",
    "version": 3
   },
   "file_extension": ".py",
   "mimetype": "text/x-python",
   "name": "python",
   "nbconvert_exporter": "python",
   "pygments_lexer": "ipython3",
   "version": "3.6.5"
  },
  "varInspector": {
   "cols": {
    "lenName": 16,
    "lenType": 16,
    "lenVar": 40
   },
   "kernels_config": {
    "python": {
     "delete_cmd_postfix": "",
     "delete_cmd_prefix": "del ",
     "library": "var_list.py",
     "varRefreshCmd": "print(var_dic_list())"
    },
    "r": {
     "delete_cmd_postfix": ") ",
     "delete_cmd_prefix": "rm(",
     "library": "var_list.r",
     "varRefreshCmd": "cat(var_dic_list()) "
    }
   },
   "types_to_exclude": [
    "module",
    "function",
    "builtin_function_or_method",
    "instance",
    "_Feature"
   ],
   "window_display": false
  }
 },
 "nbformat": 4,
 "nbformat_minor": 2
}
