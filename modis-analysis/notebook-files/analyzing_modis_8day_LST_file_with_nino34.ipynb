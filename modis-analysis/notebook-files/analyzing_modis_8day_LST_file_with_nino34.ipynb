{
 "cells": [
  {
   "cell_type": "markdown",
   "metadata": {},
   "source": [
    "**done remotely on greenplanet**"
   ]
  },
  {
   "cell_type": "code",
   "execution_count": 1,
   "metadata": {
    "ExecuteTime": {
     "end_time": "2018-10-23T19:23:32.080741Z",
     "start_time": "2018-10-23T19:23:28.667662Z"
    }
   },
   "outputs": [],
   "source": [
    "import numpy\n",
    "import gdal\n",
    "import osr\n",
    "import glob\n",
    "import xarray\n",
    "import datetime\n",
    "import re\n",
    "import cartopy\n",
    "import cmocean\n",
    "import matplotlib.pyplot as mp"
   ]
  },
  {
   "cell_type": "markdown",
   "metadata": {},
   "source": [
    "list the files in the directory"
   ]
  },
  {
   "cell_type": "raw",
   "metadata": {
    "ExecuteTime": {
     "end_time": "2018-10-23T19:23:41.182978Z",
     "start_time": "2018-10-23T19:23:34.129084Z"
    }
   },
   "source": [
    "!ls /beegfs/DATA/pritchard/blangenb/MODIS_ARCHIVE/MOD11A2/MOD11A2.A2018161*"
   ]
  },
  {
   "cell_type": "markdown",
   "metadata": {},
   "source": [
    "open all files as a separate gdal dataset\n",
    "\n",
    "(store in list)"
   ]
  },
  {
   "cell_type": "code",
   "execution_count": 3,
   "metadata": {
    "ExecuteTime": {
     "end_time": "2018-10-23T19:23:55.674825Z",
     "start_time": "2018-10-23T19:23:53.848805Z"
    }
   },
   "outputs": [],
   "source": [
    "file_list_all = numpy.array(sorted(glob.glob('/beegfs/DATA/pritchard/blangenb/MODIS_ARCHIVE/MOD11A2/MOD11A2*.hdf')))\n",
    "file_list_yearday_strings_all = numpy.array([f.split('/')[-1].split('.')[1][1:] for f in file_list_all])\n",
    "file_list_datetime_all = numpy.array([datetime.datetime.strptime(yd, '%Y%j') for yd in file_list_yearday_strings_all])\n",
    "yearday_strings_unique_all = numpy.unique(file_list_yearday_strings_all)"
   ]
  },
  {
   "cell_type": "markdown",
   "metadata": {},
   "source": [
    "specify which yearday to start and end on, and subset only those"
   ]
  },
  {
   "cell_type": "code",
   "execution_count": 9,
   "metadata": {
    "ExecuteTime": {
     "end_time": "2018-10-23T19:24:52.304765Z",
     "start_time": "2018-10-23T19:24:52.285222Z"
    }
   },
   "outputs": [
    {
     "name": "stdout",
     "output_type": "stream",
     "text": [
      "goes from 2000049 to 2018177\n"
     ]
    }
   ],
   "source": [
    "print('goes from',yearday_strings_unique_all[0],'to',yearday_strings_unique_all[-1])\n",
    "yearday_start = '2001001' #yearday_strings_unique_all[0]\n",
    "yearday_end = '2002001' #yearday_strings_unique_all[-1]\n",
    "yearday_start_dt = datetime.datetime.strptime(yearday_start, '%Y%j')\n",
    "yearday_end_dt = datetime.datetime.strptime(yearday_end, '%Y%j')\n",
    "yearday_indices = [(i<=yearday_end_dt)&(i>=yearday_start_dt) for i in file_list_datetime_all]"
   ]
  },
  {
   "cell_type": "code",
   "execution_count": 10,
   "metadata": {
    "ExecuteTime": {
     "end_time": "2018-10-23T19:24:55.725287Z",
     "start_time": "2018-10-23T19:24:55.712292Z"
    }
   },
   "outputs": [],
   "source": [
    "file_list = file_list_all[yearday_indices]\n",
    "file_list_datetime = file_list_datetime_all[yearday_indices]\n",
    "file_list_yearday_strings = file_list_yearday_strings_all[yearday_indices]\n",
    "yearday_strings_unique = numpy.unique(file_list_yearday_strings)"
   ]
  },
  {
   "cell_type": "markdown",
   "metadata": {},
   "source": [
    "create the datetime list you'll iterate over in the data set"
   ]
  },
  {
   "cell_type": "code",
   "execution_count": 11,
   "metadata": {
    "ExecuteTime": {
     "end_time": "2018-10-23T19:24:58.217449Z",
     "start_time": "2018-10-23T19:24:58.212303Z"
    }
   },
   "outputs": [],
   "source": [
    "datetime_array_subset = numpy.array(([datetime.datetime.strptime(t, '%Y%j') for t in yearday_strings_unique]))"
   ]
  },
  {
   "cell_type": "markdown",
   "metadata": {},
   "source": [
    "narrow file list even further by choosing only the grid cells that cover Indonesia\n",
    "\n",
    "(corresponds to h27/28/29/30/31/32 and v08/09/10)"
   ]
  },
  {
   "cell_type": "code",
   "execution_count": 12,
   "metadata": {
    "ExecuteTime": {
     "end_time": "2018-10-23T19:25:03.810882Z",
     "start_time": "2018-10-23T19:25:03.790480Z"
    }
   },
   "outputs": [],
   "source": [
    "reg_exp = re.compile('.*h(27|28|29|30|31|32)v(08|09|10)(.*\\.hdf)$')\n",
    "file_list = numpy.array([filename for filename in file_list if re.match(reg_exp, filename)])"
   ]
  },
  {
   "cell_type": "code",
   "execution_count": 14,
   "metadata": {
    "ExecuteTime": {
     "end_time": "2018-10-23T19:25:16.835827Z",
     "start_time": "2018-10-23T19:25:16.830676Z"
    }
   },
   "outputs": [
    {
     "data": {
      "text/plain": [
       "807"
      ]
     },
     "execution_count": 14,
     "metadata": {},
     "output_type": "execute_result"
    }
   ],
   "source": [
    "file_list.size"
   ]
  },
  {
   "cell_type": "code",
   "execution_count": 15,
   "metadata": {
    "ExecuteTime": {
     "end_time": "2018-10-23T19:25:21.036045Z",
     "start_time": "2018-10-23T19:25:21.026781Z"
    }
   },
   "outputs": [
    {
     "data": {
      "text/plain": [
       "46"
      ]
     },
     "execution_count": 15,
     "metadata": {},
     "output_type": "execute_result"
    }
   ],
   "source": [
    "yearday_strings_unique.size"
   ]
  },
  {
   "cell_type": "markdown",
   "metadata": {},
   "source": [
    "for 8-day data, nothing will be missing"
   ]
  },
  {
   "cell_type": "markdown",
   "metadata": {},
   "source": [
    "1. Do the first ```yearday``` combo (using ```gdal.BuildVRT```) to get the correct x and y dim sizes\n",
    "\n",
    "2. Then create a numpy nan array with this dimensionality.  **Make sure it's the length of the full time series, i.e., if you're missing datetimes, keep those in there as nan arrays.**  Create arrays for daytime and nighttime LST *and* the quality control data for them.\n",
    "\n",
    "3. Loop through each daytime in the list; if it exists, get the hdf files and the data out.  If it doesn't exist, keep the arrays as nans and move on."
   ]
  },
  {
   "cell_type": "markdown",
   "metadata": {},
   "source": [
    "note the first yearday_strings_unique option ('2015238') is missing a few tiles..."
   ]
  },
  {
   "cell_type": "code",
   "execution_count": 16,
   "metadata": {
    "ExecuteTime": {
     "end_time": "2018-10-23T19:26:06.012935Z",
     "start_time": "2018-10-23T19:25:53.025839Z"
    }
   },
   "outputs": [],
   "source": [
    "# 1. Doing the first yearday combo\n",
    "t = 0\n",
    "yearday_string = yearday_strings_unique[t]\n",
    "yearday_indices = [yearday_string in yd for yd in file_list]\n",
    "file_list_yearday = file_list[yearday_indices]\n",
    "# open only the files for that specific \"yearday\"\n",
    "gdal_datasets = [gdal.Open(f) for f in file_list_yearday]\n",
    "gdal_lst_day_data = [ds.GetSubDatasets()[0][0] for ds in gdal_datasets]\n",
    "# gdal_lst_night_data = [ds.GetSubDatasets()[4][0] for ds in gdal_datasets]\n",
    "# gdal_qc_day_data = [ds.GetSubDatasets()[1][0] for ds in gdal_datasets]\n",
    "# gdal_qc_night_data = [ds.GetSubDatasets()[5][0] for ds in gdal_datasets]\n",
    "# create mosaics\n",
    "lst_day_mosaic = gdal.BuildVRT('gdal_lst_day_mosaic.vrt', gdal_lst_day_data)\n",
    "# lst_night_mosaic = gdal.BuildVRT('gdal_lst_night_mosaic.vrt', gdal_lst_night_data)\n",
    "# qc_day_mosaic = gdal.BuildVRT('gdal_qc_mosaic.vrt', gdal_qc_day_data)\n",
    "# qc_night_mosaic = gdal.BuildVRT('gdal_qc_mosaic.vrt', gdal_qc_night_data)\n",
    "# pull out data\n",
    "lst_day_mosaic_data = lst_day_mosaic.ReadAsArray()\n",
    "# lst_night_mosaic_data = lst_night_mosaic.ReadAsArray()\n",
    "# qc_day_mosaic_data = qc_day_mosaic.ReadAsArray()\n",
    "# qc_night_mosaic_data = qc_night_mosaic.ReadAsArray()"
   ]
  },
  {
   "cell_type": "markdown",
   "metadata": {},
   "source": [
    "storing those data in storage arrays"
   ]
  },
  {
   "cell_type": "code",
   "execution_count": 17,
   "metadata": {
    "ExecuteTime": {
     "end_time": "2018-10-23T19:26:10.730492Z",
     "start_time": "2018-10-23T19:26:07.659151Z"
    }
   },
   "outputs": [],
   "source": [
    "lst_day_mosaic_ALL_DATA = numpy.zeros((datetime_array_subset.size,)+lst_day_mosaic_data.shape)*numpy.nan\n",
    "#lst_night_mosaic_ALL_DATA = numpy.zeros((full_datetime_list.size,)+lst_night_mosaic_data.shape)*numpy.nan\n",
    "#qc_day_mosaic_ALL_DATA = numpy.zeros((full_datetime_list.size,)+qc_day_mosaic_data.shape)*numpy.nan\n",
    "#qc_night_mosaic_ALL_DATA = numpy.zeros((full_datetime_list.size,)+qc_night_mosaic_data.shape)*numpy.nan\n",
    "\n",
    "lst_day_mosaic_ALL_DATA[0,:,:] = lst_day_mosaic_data\n",
    "#lst_night_mosaic_ALL_DATA[0,:,:] = lst_night_mosaic_data\n",
    "#qc_day_mosaic_ALL_DATA[0,:,:] = qc_day_mosaic_data\n",
    "#qc_night_mosaic_ALL_DATA[0,:,:] = qc_night_mosaic_data"
   ]
  },
  {
   "cell_type": "code",
   "execution_count": 19,
   "metadata": {
    "ExecuteTime": {
     "end_time": "2018-10-23T19:31:23.803592Z",
     "start_time": "2018-10-23T19:27:02.022577Z"
    }
   },
   "outputs": [
    {
     "name": "stdout",
     "output_type": "stream",
     "text": [
      "2001-01-09 00:00:00\n",
      "2001-01-17 00:00:00\n",
      "2001-01-25 00:00:00\n",
      "2001-02-02 00:00:00\n",
      "2001-02-10 00:00:00\n",
      "2001-02-18 00:00:00\n",
      "2001-02-26 00:00:00\n",
      "2001-03-06 00:00:00\n",
      "2001-03-14 00:00:00\n",
      "2001-03-22 00:00:00\n",
      "2001-03-30 00:00:00\n",
      "2001-04-07 00:00:00\n",
      "2001-04-15 00:00:00\n",
      "2001-04-23 00:00:00\n",
      "2001-05-01 00:00:00\n",
      "2001-05-09 00:00:00\n",
      "2001-05-17 00:00:00\n",
      "2001-05-25 00:00:00\n",
      "2001-06-02 00:00:00\n",
      "2001-06-10 00:00:00\n",
      "2001-06-26 00:00:00\n"
     ]
    },
    {
     "ename": "AttributeError",
     "evalue": "'NoneType' object has no attribute 'ReadAsArray'",
     "output_type": "error",
     "traceback": [
      "\u001b[0;31m---------------------------------------------------------------------------\u001b[0m",
      "\u001b[0;31mAttributeError\u001b[0m                            Traceback (most recent call last)",
      "\u001b[0;32m<ipython-input-19-412b6a5cdc6b>\u001b[0m in \u001b[0;36m<module>\u001b[0;34m()\u001b[0m\n\u001b[1;32m     18\u001b[0m     \u001b[0;31m#qc_night_mosaic = gdal.BuildVRT('gdal_qc_mosaic.vrt', gdal_qc_night_data)\u001b[0m\u001b[0;34m\u001b[0m\u001b[0;34m\u001b[0m\u001b[0m\n\u001b[1;32m     19\u001b[0m     \u001b[0;31m# pull out data\u001b[0m\u001b[0;34m\u001b[0m\u001b[0;34m\u001b[0m\u001b[0m\n\u001b[0;32m---> 20\u001b[0;31m     \u001b[0mlst_day_mosaic_data\u001b[0m \u001b[0;34m=\u001b[0m \u001b[0mlst_day_mosaic\u001b[0m\u001b[0;34m.\u001b[0m\u001b[0mReadAsArray\u001b[0m\u001b[0;34m(\u001b[0m\u001b[0;34m)\u001b[0m\u001b[0;34m\u001b[0m\u001b[0m\n\u001b[0m\u001b[1;32m     21\u001b[0m     \u001b[0;31m#lst_night_mosaic_data = lst_night_mosaic.ReadAsArray()\u001b[0m\u001b[0;34m\u001b[0m\u001b[0;34m\u001b[0m\u001b[0m\n\u001b[1;32m     22\u001b[0m     \u001b[0;31m#qc_day_mosaic_data = qc_day_mosaic.ReadAsArray()\u001b[0m\u001b[0;34m\u001b[0m\u001b[0;34m\u001b[0m\u001b[0m\n",
      "\u001b[0;31mAttributeError\u001b[0m: 'NoneType' object has no attribute 'ReadAsArray'"
     ]
    }
   ],
   "source": [
    "for t in range(1,datetime_array_subset.size):\n",
    "    yearday_string = datetime_array_subset[t]\n",
    "    print(yearday_string)\n",
    "\n",
    "    yearday_string = yearday_strings_unique[t]\n",
    "    yearday_indices = [yearday_string in yd for yd in file_list]\n",
    "    file_list_yearday = file_list[yearday_indices]\n",
    "    # open only the files for that specific \"yearday\"\n",
    "    gdal_datasets = [gdal.Open(f) for f in file_list_yearday]\n",
    "    gdal_lst_day_data = [ds.GetSubDatasets()[0][0] for ds in gdal_datasets]\n",
    "    #gdal_lst_night_data = [ds.GetSubDatasets()[4][0] for ds in gdal_datasets]\n",
    "    #gdal_qc_day_data = [ds.GetSubDatasets()[1][0] for ds in gdal_datasets]\n",
    "    #gdal_qc_night_data = [ds.GetSubDatasets()[5][0] for ds in gdal_datasets]\n",
    "    # create mosaics\n",
    "    lst_day_mosaic = gdal.BuildVRT('gdal_lst_day_mosaic.vrt', gdal_lst_day_data)\n",
    "    #lst_night_mosaic = gdal.BuildVRT('gdal_lst_night_mosaic.vrt', gdal_lst_night_data)\n",
    "    #qc_day_mosaic = gdal.BuildVRT('gdal_qc_mosaic.vrt', gdal_qc_day_data)\n",
    "    #qc_night_mosaic = gdal.BuildVRT('gdal_qc_mosaic.vrt', gdal_qc_night_data)\n",
    "    # pull out data\n",
    "    lst_day_mosaic_data = lst_day_mosaic.ReadAsArray()\n",
    "    #lst_night_mosaic_data = lst_night_mosaic.ReadAsArray()\n",
    "    #qc_day_mosaic_data = qc_day_mosaic.ReadAsArray()\n",
    "    #qc_night_mosaic_data = qc_night_mosaic.ReadAsArray()\n",
    "    # collect in storage arrays\n",
    "    lst_day_mosaic_ALL_DATA[t,:,:] = lst_day_mosaic_data\n",
    "    #lst_night_mosaic_ALL_DATA[t,:,:] = lst_night_mosaic_data\n",
    "    #qc_day_mosaic_ALL_DATA[t,:,:] = qc_day_mosaic_data\n",
    "    #qc_night_mosaic_ALL_DATA[t,:,:] = qc_night_mosaic_data"
   ]
  },
  {
   "cell_type": "code",
   "execution_count": 51,
   "metadata": {},
   "outputs": [
    {
     "data": {
      "text/plain": [
       "(19, 3600, 7200)"
      ]
     },
     "execution_count": 51,
     "metadata": {},
     "output_type": "execute_result"
    }
   ],
   "source": [
    "lst_day_mosaic_ALL_DATA.shape"
   ]
  },
  {
   "cell_type": "code",
   "execution_count": 52,
   "metadata": {
    "ExecuteTime": {
     "end_time": "2018-07-09T18:33:43.441991Z",
     "start_time": "2018-07-09T18:33:42.009362Z"
    }
   },
   "outputs": [
    {
     "name": "stderr",
     "output_type": "stream",
     "text": [
      "/export/home/blangenb/miniconda3/lib/python3.6/site-packages/matplotlib/cbook/deprecation.py:107: MatplotlibDeprecationWarning: Adding an axes using the same arguments as a previous axes currently reuses the earlier instance.  In a future version, a new instance will always be created and returned.  Meanwhile, this warning can be suppressed, and the future behavior ensured, by passing a unique label to each axes instance.\n",
      "  warnings.warn(message, mplDeprecation, stacklevel=1)\n"
     ]
    },
    {
     "data": {
      "text/plain": [
       "(0, 7200)"
      ]
     },
     "execution_count": 52,
     "metadata": {},
     "output_type": "execute_result"
    },
    {
     "data": {
      "image/png": "[encoded data removed]",
      "text/plain": [
       "<Figure size 432x288 with 1 Axes>"
      ]
     },
     "metadata": {},
     "output_type": "display_data"
    }
   ],
   "source": [
    "mp.imshow(lst_day_mosaic_data)\n",
    "mp.axes().set_xlim(0,7200)"
   ]
  },
  {
   "cell_type": "markdown",
   "metadata": {},
   "source": [
    "from the documentation:\n",
    "\n",
    "Atmospheric radiative transfer simulations were made with MODTRAN4 code (Berk et al., 1999) in wide atmospheric and LST conditions: the range of the atmospheric surface temperature (Ts-air) is set as 280–325K for the daytime and 275–305K for the nighttime; the atmospheric column water vapor varies from nearly zero to 5.5cm; and the range of (LST – Ts-air) is set as from 8–29K for daytime LSTs and from −10–4K for nighttime LSTs. A quadratic term of the difference between brightness temperatures in bands 31 and 32 was added into the original viewing angle dependent split-window algorithm in order to improve the LST retrieval accuracy slightly (Wan, 2014).\n",
    "\n",
    "* valid range 7500-65535 in raw output"
   ]
  },
  {
   "cell_type": "code",
   "execution_count": 53,
   "metadata": {},
   "outputs": [
    {
     "name": "stderr",
     "output_type": "stream",
     "text": [
      "/export/home/blangenb/miniconda3/lib/python3.6/site-packages/ipykernel_launcher.py:2: RuntimeWarning: invalid value encountered in less\n",
      "  \n",
      "/export/home/blangenb/miniconda3/lib/python3.6/site-packages/ipykernel_launcher.py:2: RuntimeWarning: invalid value encountered in greater\n",
      "  \n",
      "/export/home/blangenb/miniconda3/lib/python3.6/site-packages/ipykernel_launcher.py:8: RuntimeWarning: Mean of empty slice\n",
      "  \n"
     ]
    }
   ],
   "source": [
    "# set data outside valid range equal to nan\n",
    "lst_day_mosaic_ALL_DATA[(lst_day_mosaic_ALL_DATA<7500)|(lst_day_mosaic_ALL_DATA>65535)] = numpy.nan\n",
    "\n",
    "# scale it down to Kelvin units\n",
    "lst_day_mosaic_ALL_DATA_scaled = lst_day_mosaic_ALL_DATA*0.02\n",
    "\n",
    "# take the time mean\n",
    "lst_day_mosaic_timemean = numpy.nanmean(lst_day_mosaic_ALL_DATA_scaled, axis=0)"
   ]
  },
  {
   "cell_type": "code",
   "execution_count": 54,
   "metadata": {
    "ExecuteTime": {
     "end_time": "2018-07-09T05:29:13.352643Z",
     "start_time": "2018-07-09T05:29:09.450302Z"
    }
   },
   "outputs": [
    {
     "data": {
      "text/plain": [
       "<matplotlib.colorbar.Colorbar at 0x2b2c2364ec18>"
      ]
     },
     "execution_count": 54,
     "metadata": {},
     "output_type": "execute_result"
    },
    {
     "data": {
      "image/png": "[encoded data removed]",
      "text/plain": [
       "<Figure size 432x288 with 2 Axes>"
      ]
     },
     "metadata": {},
     "output_type": "display_data"
    }
   ],
   "source": [
    "mp.imshow(lst_day_mosaic_timemean-273.15);mp.colorbar()"
   ]
  },
  {
   "cell_type": "code",
   "execution_count": 58,
   "metadata": {
    "ExecuteTime": {
     "end_time": "2018-07-09T04:40:52.436215Z",
     "start_time": "2018-07-09T04:40:52.424519Z"
    }
   },
   "outputs": [
    {
     "data": {
      "text/plain": [
       "(10007554.677899,\n",
       " 926.6254331387504,\n",
       " 0.0,\n",
       " 1111950.519767,\n",
       " 0.0,\n",
       " -926.6254331388888)"
      ]
     },
     "execution_count": 58,
     "metadata": {},
     "output_type": "execute_result"
    }
   ],
   "source": [
    "lst_geotrans = lst_day_mosaic.GetGeoTransform()\n",
    "lst_geotrans"
   ]
  },
  {
   "cell_type": "code",
   "execution_count": 59,
   "metadata": {
    "ExecuteTime": {
     "end_time": "2018-07-09T04:40:59.591778Z",
     "start_time": "2018-07-09T04:40:59.586843Z"
    }
   },
   "outputs": [],
   "source": [
    "data_extent = (lst_geotrans[0], \\\n",
    "               lst_geotrans[0] + lst_day_mosaic.RasterXSize*lst_geotrans[1], \\\n",
    "               lst_geotrans[3] + lst_day_mosaic.RasterYSize*lst_geotrans[5], \\\n",
    "               lst_geotrans[3])"
   ]
  },
  {
   "cell_type": "code",
   "execution_count": 81,
   "metadata": {
    "ExecuteTime": {
     "end_time": "2018-07-09T04:41:12.795419Z",
     "start_time": "2018-07-09T04:41:07.285141Z"
    }
   },
   "outputs": [
    {
     "data": {
      "image/png": "[encoded data removed]",
      "text/plain": [
       "<Figure size 306x198 with 2 Axes>"
      ]
     },
     "metadata": {},
     "output_type": "display_data"
    }
   ],
   "source": [
    "fontsize=12\n",
    "\n",
    "modis_globe = cartopy.crs.Globe(datum='WGS84', ellipse='sphere', semimajor_axis=6371007.181)\n",
    "map_proj = cartopy.crs.Sinusoidal(central_longitude=0, false_northing=0, false_easting=0, globe=modis_globe)\n",
    "data_proj = cartopy.crs.Sinusoidal(central_longitude=0, false_northing=0, false_easting=0, globe=modis_globe)\n",
    "geodetic_proj = cartopy.crs.Geodetic()\n",
    "\n",
    "field = lst_day_mosaic_timemean-273.15\n",
    "\n",
    "fig = mp.figure(figsize=(4.25,2.75))\n",
    "ax = fig.add_subplot(111, projection=map_proj)\n",
    "image = ax.imshow(field, \\\n",
    "                  extent=data_extent, \\\n",
    "                  origin='upper', transform=data_proj, \\\n",
    "                  vmin=20,vmax=35,cmap=cmocean.cm.matter_r)\n",
    "ax.coastlines(resolution='10m', color='0.1', lw=0.5)\n",
    "\n",
    "ax.text(s='MODIS daytime LST (2017)', x=0,y=1.02,\n",
    "        ha='left', va='bottom', transform=ax.transAxes,\n",
    "        fontsize=fontsize)\n",
    "\n",
    "fig.tight_layout()\n",
    "\n",
    "axpos = ax.get_position()\n",
    "cbar_ax = fig.add_axes([axpos.x0,axpos.y0-.05,axpos.width,0.05])\n",
    "cbar = mp.colorbar(image, cax=cbar_ax, orientation='horizontal')\n",
    "cbar_ax.tick_params(labelsize=fontsize)\n",
    "cbar.set_label('$\\degree$C', fontsize=fontsize)\n",
    "\n",
    "mp.savefig('../figures/modis_daytime_lst_2017.png', dpi=600, bbox_inches='tight', transparent=True)"
   ]
  }
 ],
 "metadata": {
  "kernelspec": {
   "display_name": "Python 3",
   "language": "python",
   "name": "python3"
  },
  "language_info": {
   "codemirror_mode": {
    "name": "ipython",
    "version": 3
   },
   "file_extension": ".py",
   "mimetype": "text/x-python",
   "name": "python",
   "nbconvert_exporter": "python",
   "pygments_lexer": "ipython3",
   "version": "3.6.5"
  },
  "varInspector": {
   "cols": {
    "lenName": 16,
    "lenType": 16,
    "lenVar": 40
   },
   "kernels_config": {
    "python": {
     "delete_cmd_postfix": "",
     "delete_cmd_prefix": "del ",
     "library": "var_list.py",
     "varRefreshCmd": "print(var_dic_list())"
    },
    "r": {
     "delete_cmd_postfix": ") ",
     "delete_cmd_prefix": "rm(",
     "library": "var_list.r",
     "varRefreshCmd": "cat(var_dic_list()) "
    }
   },
   "types_to_exclude": [
    "module",
    "function",
    "builtin_function_or_method",
    "instance",
    "_Feature"
   ],
   "window_display": false
  }
 },
 "nbformat": 4,
 "nbformat_minor": 2
}
