{
 "cells": [
  {
   "cell_type": "markdown",
   "metadata": {},
   "source": [
    "**done remotely on greenplanet**"
   ]
  },
  {
   "cell_type": "code",
   "execution_count": 1,
   "metadata": {
    "ExecuteTime": {
     "end_time": "2018-07-09T19:13:43.592470Z",
     "start_time": "2018-07-09T19:13:42.002263Z"
    }
   },
   "outputs": [],
   "source": [
    "import numpy\n",
    "import gdal\n",
    "import osr\n",
    "import glob\n",
    "import xarray\n",
    "import re\n",
    "import pprint\n",
    "\n",
    "import cartopy\n",
    "import cmocean\n",
    "import matplotlib\n",
    "import matplotlib.pyplot as mp\n",
    "\n",
    "import matplotlib.cm as mcm"
   ]
  },
  {
   "cell_type": "markdown",
   "metadata": {},
   "source": [
    "list the files in the directory"
   ]
  },
  {
   "cell_type": "raw",
   "metadata": {},
   "source": [
    "!ls ../../../../MODIS_ARCHIVE/MCD12Q1.006/"
   ]
  },
  {
   "cell_type": "raw",
   "metadata": {
    "ExecuteTime": {
     "end_time": "2018-07-09T19:13:43.751166Z",
     "start_time": "2018-07-09T19:13:43.594886Z"
    }
   },
   "source": [
    "!ls ../../../../MODIS_ARCHIVE/MCD12Q1.006/*h{28,29,30,31,32}*v{08,09,10}*.hdf"
   ]
  },
  {
   "cell_type": "markdown",
   "metadata": {},
   "source": [
    "open all files as a separate gdal dataset\n",
    "\n",
    "(store in list)"
   ]
  },
  {
   "cell_type": "code",
   "execution_count": 30,
   "metadata": {
    "ExecuteTime": {
     "end_time": "2018-07-09T19:13:43.894707Z",
     "start_time": "2018-07-09T19:13:43.754179Z"
    }
   },
   "outputs": [],
   "source": [
    "file_list_all = sorted(glob.glob('/beegfs/DATA/pritchard/blangenb/MODIS_ARCHIVE/MCD12Q1.006/*2002001*.hdf'))\n",
    "reg_exp = re.compile('.*h(27|28|29|30|31|32)v(08|09|10)(.*\\.hdf)$')\n",
    "file_list = [filename for filename in file_list_all if re.match(reg_exp, filename)]\n",
    "gdal_datasets = [gdal.Open(f) for f in file_list]"
   ]
  },
  {
   "cell_type": "markdown",
   "metadata": {},
   "source": [
    "open the specific files you want (e.g., day and night land surface temps., quality control data)\n",
    "\n",
    "(store in list)"
   ]
  },
  {
   "cell_type": "code",
   "execution_count": 31,
   "metadata": {
    "ExecuteTime": {
     "end_time": "2018-07-09T19:13:43.905286Z",
     "start_time": "2018-07-09T19:13:43.896843Z"
    }
   },
   "outputs": [],
   "source": [
    "gdal_lc_type1 = [ds.GetSubDatasets()[0][0] for ds in gdal_datasets]\n",
    "#gdal_lst_night_data = [ds.GetSubDatasets()[4][0] for ds in gdal_datasets]\n",
    "#gdal_qc_data = [ds.GetSubDatasets()[1][0] for ds in gdal_datasets]"
   ]
  },
  {
   "cell_type": "markdown",
   "metadata": {},
   "source": [
    "use ```gdal.BuildVRT``` to create a mosaic of the files\n",
    "\n",
    "(done for each list of gdal subdatasets)"
   ]
  },
  {
   "cell_type": "code",
   "execution_count": 32,
   "metadata": {
    "ExecuteTime": {
     "end_time": "2018-07-09T19:13:45.382584Z",
     "start_time": "2018-07-09T19:13:43.908423Z"
    }
   },
   "outputs": [],
   "source": [
    "lc_mosaic = gdal.BuildVRT('../vrt_files/gdal_lc_day_mosaic.vrt', gdal_lc_type1)\n",
    "lc_mosaic_data = numpy.array(lc_mosaic.ReadAsArray(), dtype=numpy.float)\n",
    "\n",
    "# lc_night_mosaic = gdal.BuildVRT('../vrt_files/gdal_lc_night_mosaic.vrt', gdal_lc_night_data)\n",
    "# lc_mosaic_night_data = lc_night_mosaic.ReadAsArray()\n",
    "\n",
    "# qc_mosaic = gdal.BuildVRT('../vrt_files/gdal_qc_mosaic.vrt', gdal_qc_data)\n",
    "# qc_mosaic_data = qc_mosaic.ReadAsArray()"
   ]
  },
  {
   "cell_type": "markdown",
   "metadata": {},
   "source": [
    "copy data to compare 2002 and 2016"
   ]
  },
  {
   "cell_type": "code",
   "execution_count": 33,
   "metadata": {},
   "outputs": [],
   "source": [
    "lc_mosaic_data_2002 = numpy.copy(lc_mosaic_data)"
   ]
  },
  {
   "cell_type": "code",
   "execution_count": 5,
   "metadata": {},
   "outputs": [],
   "source": [
    "lc_mosaic_data_2016 = numpy.copy(lc_mosaic_data)"
   ]
  },
  {
   "cell_type": "markdown",
   "metadata": {},
   "source": [
    "get the geotransform info from one of these data sets"
   ]
  },
  {
   "cell_type": "code",
   "execution_count": 6,
   "metadata": {
    "ExecuteTime": {
     "end_time": "2018-07-09T19:13:45.406306Z",
     "start_time": "2018-07-09T19:13:45.385323Z"
    }
   },
   "outputs": [],
   "source": [
    "lc_geotrans = lc_mosaic.GetGeoTransform()"
   ]
  },
  {
   "cell_type": "markdown",
   "metadata": {},
   "source": [
    "use the geotransform info to create a data_extent tuple for cartopy"
   ]
  },
  {
   "cell_type": "code",
   "execution_count": 9,
   "metadata": {
    "ExecuteTime": {
     "end_time": "2018-07-09T19:13:45.419448Z",
     "start_time": "2018-07-09T19:13:45.413827Z"
    }
   },
   "outputs": [],
   "source": [
    "data_extent = (lc_geotrans[0], \\\n",
    "               lc_geotrans[0] + lc_mosaic.RasterXSize*lc_geotrans[1], \\\n",
    "               lc_geotrans[3] + lc_mosaic.RasterYSize*lc_geotrans[5], \\\n",
    "               lc_geotrans[3])"
   ]
  },
  {
   "cell_type": "markdown",
   "metadata": {},
   "source": [
    "prepare colormaps"
   ]
  },
  {
   "cell_type": "code",
   "execution_count": 10,
   "metadata": {},
   "outputs": [],
   "source": [
    "modis_type_dict = {}\n",
    "modis_type_dict['0'] = 'Water'\n",
    "modis_type_dict['1'] = 'Evergreen needleleaf forest'\n",
    "modis_type_dict['2'] = 'Evergreen broadleaf forest'\n",
    "modis_type_dict['3'] = 'Deciduous needleleaf forest'\n",
    "modis_type_dict['4'] = 'Deciduous broadleaf forest'\n",
    "modis_type_dict['5'] = 'Mixed forest'\n",
    "modis_type_dict['6'] = 'Closed shrublands'\n",
    "modis_type_dict['7'] = 'Open shrublands'\n",
    "modis_type_dict['8'] = 'Woody savannas'\n",
    "modis_type_dict['9'] = 'Savannas'\n",
    "modis_type_dict['10'] = 'Grasslands'\n",
    "modis_type_dict['11'] = 'Permanent wetlands'\n",
    "modis_type_dict['12'] = 'Croplands'\n",
    "modis_type_dict['13'] = 'Urban and built-up'\n",
    "modis_type_dict['14'] = 'Cropland/natural veg. mosaic'\n",
    "modis_type_dict['15'] = 'Snow and ice'\n",
    "modis_type_dict['16'] = 'Barren or sparsely vegetated'\n",
    "#modis_type_dict['255'] = 'Fill Value'"
   ]
  },
  {
   "cell_type": "code",
   "execution_count": 13,
   "metadata": {},
   "outputs": [],
   "source": [
    "type_numbers = numpy.arange(0,17,dtype=numpy.int)\n",
    "type_name = [modis_type_dict[str(i)] for i in type_numbers]"
   ]
  },
  {
   "cell_type": "code",
   "execution_count": 26,
   "metadata": {},
   "outputs": [],
   "source": [
    "human_cmap = mcm.YlOrRd_r #Purples\n",
    "water_cmap = mcm.Blues\n",
    "veg_cmap = mcm.Greens_r\n",
    "shrub_cmap = mcm.pink #YlOrBr\n",
    "\n",
    "svals = numpy.linspace(0.2,0.85,5)\n",
    "vvals = numpy.linspace(0.2,0.85,5)\n",
    "hvals = [0.25,0.5,0.75]\n",
    "\n",
    "colors_list = [water_cmap(0.75),\\\n",
    "               veg_cmap(vvals[0]),veg_cmap(vvals[1]),veg_cmap(vvals[2]),veg_cmap(vvals[3]),veg_cmap(vvals[4]),\\\n",
    "               shrub_cmap(svals[0]),shrub_cmap(svals[1]),shrub_cmap(svals[2]),shrub_cmap(svals[3]),shrub_cmap(svals[4]),\\\n",
    "               water_cmap(0.5),\\\n",
    "               human_cmap(hvals[0]),human_cmap(hvals[1]),human_cmap(hvals[2]),\\\n",
    "               '0.7','9.']\n",
    "\n",
    "categorical_cmap = matplotlib.colors.ListedColormap(colors_list, name='None')\n",
    "n_categories = len(colors_list)"
   ]
  },
  {
   "cell_type": "markdown",
   "metadata": {},
   "source": [
    "practice plot"
   ]
  },
  {
   "cell_type": "code",
   "execution_count": 27,
   "metadata": {},
   "outputs": [
    {
     "data": {
      "image/png": "[encoded data removed]",
      "text/plain": [
       "<Figure size 432x288 with 2 Axes>"
      ]
     },
     "metadata": {},
     "output_type": "display_data"
    }
   ],
   "source": [
    "fontsize=12\n",
    "\n",
    "rand_array = numpy.random.randint(low=1, high=17, size=(10,10))\n",
    "\n",
    "fig = mp.figure()\n",
    "\n",
    "ax = fig.add_subplot(111)\n",
    "\n",
    "landuse_map = ax.pcolormesh(rand_array, cmap=categorical_cmap, vmin=0, vmax=17)\n",
    "\n",
    "ax_pos = ax.get_position()\n",
    "cbar_ax = fig.add_axes([ax_pos.x1+0.025,ax_pos.y0,0.03,ax_pos.height])\n",
    "cbar = fig.colorbar(landuse_map, cax=cbar_ax, drawedges=True)\n",
    "cbar.dividers.set_color('0')\n",
    "cbar.dividers.set_linewidth(1)\n",
    "cbar.set_ticks(numpy.arange(0.5,16.6,1))\n",
    "cbar.set_ticklabels(type_name)\n",
    "cbar.ax.tick_params(labelsize=fontsize, length=0)"
   ]
  },
  {
   "cell_type": "markdown",
   "metadata": {},
   "source": [
    "plot on original projection"
   ]
  },
  {
   "cell_type": "code",
   "execution_count": null,
   "metadata": {},
   "outputs": [],
   "source": [
    "field = lc_mosaic_data_2002\n",
    "field[field==255] = numpy.nan\n",
    "#field[field==17] = numpy.nan"
   ]
  },
  {
   "cell_type": "code",
   "execution_count": null,
   "metadata": {
    "ExecuteTime": {
     "end_time": "2018-07-09T19:13:50.747243Z",
     "start_time": "2018-07-09T19:13:45.424900Z"
    }
   },
   "outputs": [],
   "source": [
    "modis_globe = cartopy.crs.Globe(datum='WGS84', ellipse='sphere', semimajor_axis=6371007.181)\n",
    "map_proj = cartopy.crs.Sinusoidal(central_longitude=0, false_northing=0, false_easting=0, globe=modis_globe)\n",
    "data_proj = cartopy.crs.Sinusoidal(central_longitude=0, false_northing=0, false_easting=0, globe=modis_globe)\n",
    "geodetic_proj = cartopy.crs.Geodetic()\n",
    "\n",
    "fig = mp.figure(figsize=(8.5,5))\n",
    "ax = fig.add_subplot(111, projection=map_proj)\n",
    "image = ax.imshow(field, \\\n",
    "                  extent=data_extent, \\\n",
    "                  origin='upper', transform=data_proj, \\\n",
    "                  vmin=0,vmax=17,\\\n",
    "                  cmap=categorical_cmap)\n",
    "ax.coastlines(resolution='10m', color='0.1')\n",
    "\n",
    "fig.tight_layout()\n",
    "\n",
    "ax_pos = ax.get_position()\n",
    "cbar_ax = fig.add_axes([ax_pos.x1+0.025,ax_pos.y0,0.03,ax_pos.height])\n",
    "cbar = fig.colorbar(image, cax=cbar_ax, drawedges=True)\n",
    "cbar.dividers.set_color('0')\n",
    "cbar.dividers.set_linewidth(1)\n",
    "cbar.set_ticks(numpy.arange(0.5,16.6,1))\n",
    "cbar.set_ticklabels(type_name)\n",
    "cbar.ax.tick_params(labelsize=fontsize, length=0)\n",
    "\n",
    "fig.savefig('../figures/modis_2002_landcover.png', dpi=600, bbox_inches='tight', transparent=True)"
   ]
  },
  {
   "cell_type": "markdown",
   "metadata": {},
   "source": [
    "plot 2016"
   ]
  },
  {
   "cell_type": "code",
   "execution_count": null,
   "metadata": {},
   "outputs": [],
   "source": [
    "field = lc_mosaic_data_2016\n",
    "field[field==255] = numpy.nan\n",
    "#field[field==17] = numpy.nan"
   ]
  },
  {
   "cell_type": "code",
   "execution_count": null,
   "metadata": {
    "ExecuteTime": {
     "end_time": "2018-07-09T19:13:50.747243Z",
     "start_time": "2018-07-09T19:13:45.424900Z"
    }
   },
   "outputs": [],
   "source": [
    "modis_globe = cartopy.crs.Globe(datum='WGS84', ellipse='sphere', semimajor_axis=6371007.181)\n",
    "map_proj = cartopy.crs.Sinusoidal(central_longitude=0, false_northing=0, false_easting=0, globe=modis_globe)\n",
    "data_proj = cartopy.crs.Sinusoidal(central_longitude=0, false_northing=0, false_easting=0, globe=modis_globe)\n",
    "geodetic_proj = cartopy.crs.Geodetic()\n",
    "\n",
    "fig = mp.figure(figsize=(8.5,5))\n",
    "ax = fig.add_subplot(111, projection=map_proj)\n",
    "image = ax.imshow(field, \\\n",
    "                  extent=data_extent, \\\n",
    "                  origin='upper', transform=data_proj, \\\n",
    "                  vmin=0,vmax=17,\\\n",
    "                  cmap=categorical_cmap)\n",
    "ax.coastlines(resolution='10m', color='0.1')\n",
    "\n",
    "fig.tight_layout()\n",
    "\n",
    "ax_pos = ax.get_position()\n",
    "cbar_ax = fig.add_axes([ax_pos.x1+0.025,ax_pos.y0,0.03,ax_pos.height])\n",
    "cbar = fig.colorbar(image, cax=cbar_ax, drawedges=True)\n",
    "cbar.dividers.set_color('0')\n",
    "cbar.dividers.set_linewidth(1)\n",
    "cbar.set_ticks(numpy.arange(0.5,16.6,1))\n",
    "cbar.set_ticklabels(type_name)\n",
    "cbar.ax.tick_params(labelsize=fontsize, length=0)\n",
    "\n",
    "fig.savefig('../figures/modis_2016_landcover.png', dpi=600, bbox_inches='tight', transparent=True)"
   ]
  },
  {
   "cell_type": "markdown",
   "metadata": {},
   "source": [
    "plot on new projection (this time, plotting quality control data):"
   ]
  },
  {
   "cell_type": "raw",
   "metadata": {
    "ExecuteTime": {
     "end_time": "2018-07-09T19:14:42.050008Z",
     "start_time": "2018-07-09T19:13:55.648090Z"
    }
   },
   "source": [
    "modis_globe = cartopy.crs.Globe(datum='WGS84', ellipse='sphere', semimajor_axis=6371007.181)\n",
    "map_proj = cartopy.crs.Sinusoidal(central_longitude=120, false_northing=0, false_easting=0, globe=modis_globe)\n",
    "data_proj = cartopy.crs.Sinusoidal(central_longitude=0, false_northing=0, false_easting=0, globe=modis_globe)\n",
    "geodetic_proj = cartopy.crs.Geodetic()\n",
    "\n",
    "field = qc_mosaic_data\n",
    "\n",
    "fig = mp.figure(figsize=(8.5,5))\n",
    "ax = fig.add_subplot(111, projection=map_proj)\n",
    "image = ax.imshow(field, \\\n",
    "                  extent=data_extent, \\\n",
    "                  origin='upper', transform=data_proj, \\\n",
    "                  cmap=cmocean.cm.amp)\n",
    "ax.coastlines(resolution='10m', color='0.1')\n",
    "\n",
    "ax.set_extent([94,154,-12,10])\n",
    "mp.colorbar(image)"
   ]
  }
 ],
 "metadata": {
  "kernelspec": {
   "display_name": "Python 3",
   "language": "python",
   "name": "python3"
  },
  "language_info": {
   "codemirror_mode": {
    "name": "ipython",
    "version": 3
   },
   "file_extension": ".py",
   "mimetype": "text/x-python",
   "name": "python",
   "nbconvert_exporter": "python",
   "pygments_lexer": "ipython3",
   "version": "3.6.5"
  },
  "varInspector": {
   "cols": {
    "lenName": 16,
    "lenType": 16,
    "lenVar": 40
   },
   "kernels_config": {
    "python": {
     "delete_cmd_postfix": "",
     "delete_cmd_prefix": "del ",
     "library": "var_list.py",
     "varRefreshCmd": "print(var_dic_list())"
    },
    "r": {
     "delete_cmd_postfix": ") ",
     "delete_cmd_prefix": "rm(",
     "library": "var_list.r",
     "varRefreshCmd": "cat(var_dic_list()) "
    }
   },
   "types_to_exclude": [
    "module",
    "function",
    "builtin_function_or_method",
    "instance",
    "_Feature"
   ],
   "window_display": false
  }
 },
 "nbformat": 4,
 "nbformat_minor": 2
}
