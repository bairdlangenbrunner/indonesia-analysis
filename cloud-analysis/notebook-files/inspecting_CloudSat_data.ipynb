{
 "cells": [
  {
   "cell_type": "code",
   "execution_count": 1,
   "metadata": {
    "ExecuteTime": {
     "end_time": "2018-10-08T23:34:14.971527Z",
     "start_time": "2018-10-08T23:34:12.986507Z"
    }
   },
   "outputs": [],
   "source": [
    "import xarray\n",
    "import matplotlib.pyplot as mp\n",
    "import cartopy\n",
    "import numpy"
   ]
  },
  {
   "cell_type": "code",
   "execution_count": 2,
   "metadata": {
    "ExecuteTime": {
     "end_time": "2018-10-08T23:34:42.383887Z",
     "start_time": "2018-10-08T23:34:42.379584Z"
    }
   },
   "outputs": [],
   "source": [
    "filename = '/Users/baird/Dropbox/_data_observations/CloudSat/2006153183902_00516_CS_2B-GEOPROF_GRANULE_P1_R05_E00_F00.hdf'"
   ]
  },
  {
   "cell_type": "code",
   "execution_count": 3,
   "metadata": {
    "ExecuteTime": {
     "end_time": "2018-10-08T23:34:48.184122Z",
     "start_time": "2018-10-08T23:34:48.031021Z"
    }
   },
   "outputs": [],
   "source": [
    "ds = xarray.open_dataset(filename)"
   ]
  },
  {
   "cell_type": "code",
   "execution_count": 4,
   "metadata": {
    "ExecuteTime": {
     "end_time": "2018-10-08T23:34:49.492261Z",
     "start_time": "2018-10-08T23:34:49.475542Z"
    }
   },
   "outputs": [
    {
     "data": {
      "text/plain": [
       "<xarray.Dataset>\n",
       "Dimensions:              (nbin:2B-GEOPROF: 125, nray:2B-GEOPROF: 37083)\n",
       "Dimensions without coordinates: nbin:2B-GEOPROF, nray:2B-GEOPROF\n",
       "Data variables:\n",
       "    Height               (nray:2B-GEOPROF, nbin:2B-GEOPROF) float32 ...\n",
       "    CPR_Cloud_mask       (nray:2B-GEOPROF, nbin:2B-GEOPROF) float32 ...\n",
       "    Gaseous_Attenuation  (nray:2B-GEOPROF, nbin:2B-GEOPROF) float32 ...\n",
       "    Radar_Reflectivity   (nray:2B-GEOPROF, nbin:2B-GEOPROF) float32 ...\n",
       "Attributes:\n",
       "    HDFEOSVersion:     HDFEOS_V2.5\n",
       "    StructMetadata.0:  GROUP=SwathStructure\\n\\tGROUP=SWATH_1\\n\\t\\tSwathName=\"..."
      ]
     },
     "execution_count": 4,
     "metadata": {},
     "output_type": "execute_result"
    }
   ],
   "source": [
    "ds"
   ]
  },
  {
   "cell_type": "code",
   "execution_count": 6,
   "metadata": {
    "ExecuteTime": {
     "end_time": "2018-10-08T23:35:21.093838Z",
     "start_time": "2018-10-08T23:35:20.961976Z"
    }
   },
   "outputs": [],
   "source": [
    "cpr_data = ds['CPR_Cloud_mask'].values"
   ]
  },
  {
   "cell_type": "code",
   "execution_count": 9,
   "metadata": {
    "ExecuteTime": {
     "end_time": "2018-10-08T23:36:26.339913Z",
     "start_time": "2018-10-08T23:36:17.332234Z"
    }
   },
   "outputs": [
    {
     "data": {
      "text/plain": [
       "<matplotlib.colorbar.Colorbar at 0x33f446400>"
      ]
     },
     "execution_count": 9,
     "metadata": {},
     "output_type": "execute_result"
    },
    {
     "data": {
      "image/png": "[encoded data removed]",
      "text/plain": [
       "<Figure size 432x288 with 2 Axes>"
      ]
     },
     "metadata": {},
     "output_type": "display_data"
    }
   ],
   "source": [
    "mp.pcolormesh(cpr_data.T[::-1,:], vmin=0, vmax=15);mp.colorbar()"
   ]
  },
  {
   "cell_type": "code",
   "execution_count": null,
   "metadata": {},
   "outputs": [],
   "source": []
  }
 ],
 "metadata": {
  "kernelspec": {
   "display_name": "Python 3",
   "language": "python",
   "name": "python3"
  },
  "language_info": {
   "codemirror_mode": {
    "name": "ipython",
    "version": 3
   },
   "file_extension": ".py",
   "mimetype": "text/x-python",
   "name": "python",
   "nbconvert_exporter": "python",
   "pygments_lexer": "ipython3",
   "version": "3.6.5"
  }
 },
 "nbformat": 4,
 "nbformat_minor": 2
}
